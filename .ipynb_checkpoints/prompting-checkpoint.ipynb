{
 "cells": [
  {
   "cell_type": "code",
   "execution_count": 3,
   "id": "b009c034-a3f7-4c1e-b44f-2e84a9374306",
   "metadata": {},
   "outputs": [],
   "source": [
    "import openai\n",
    "import pandas as pd\n",
    "import numpy as np\n",
    "import os"
   ]
  },
  {
   "cell_type": "code",
   "execution_count": 8,
   "id": "c873e3f3-ca2d-4591-9a9d-cfdaedfcf41f",
   "metadata": {},
   "outputs": [],
   "source": [
    "os.environ[\"OPENAI_API_KEY\"] = \"\""
   ]
  },
  {
   "cell_type": "code",
   "execution_count": 9,
   "id": "d5f450ab-7b4f-44bd-b5bc-963b42acfae7",
   "metadata": {},
   "outputs": [],
   "source": [
    "openai.organization = \"\"\n",
    "openai.api_key = os.environ.get(\"OPENAI_API_KEY\")"
   ]
  },
  {
   "cell_type": "code",
   "execution_count": 13,
   "id": "f963ef8d-c56e-47f5-9a96-42b3f537d6cd",
   "metadata": {},
   "outputs": [],
   "source": [
    "MODEL = \"gpt-4\""
   ]
  },
  {
   "cell_type": "code",
   "execution_count": 30,
   "id": "9bb59c4c-1640-4533-919e-e05cf297f533",
   "metadata": {},
   "outputs": [],
   "source": [
    "system_instruction = '''\n",
    "You are a linguist specializing in doing text annotation in the English language.\n",
    "You will be tasked with making minimal modification to a given piece of text based on some linguistics aspects to expose biases in machine learning models.\n",
    "Be precise and only reply with the modified text corresponding to each type of modification. Ensure that the modified sentences are grammatically correct and sound natural.\n",
    "'''"
   ]
  },
  {
   "cell_type": "code",
   "execution_count": 32,
   "id": "12926c23-6b39-4bfb-bd4b-e3d0f6c06495",
   "metadata": {},
   "outputs": [],
   "source": [
    "negation_instruction = '''Given a sample in the coreference resolution task. Negate the text by making minimal modifications to introduce different types of negation. The types of negation include:\n",
    "\n",
    "1. verbal negation: when the negation is grammatically associated with the verb, the head of the clause.\n",
    "Examples: \n",
    "did not, could not.\n",
    "\n",
    "2. synthetic negation: when the negation words have some other function aside from marking negation. \n",
    "Examples:\n",
    "- Absolute negator: no (including compounds nobody, nothing, etc., and the independent form none), neither, nor, never.\n",
    "- Approximate negators: few, little; barely, hardly, scarcely; rarely, seldom.\n",
    "- Affixal negators: un-, in-, non-, -less, etc. \n",
    "\n",
    "\n",
    "3. lexical negation: when the negation is added by substituting the main predicate of the sentence with its antonym or word carrying negative meaning.\n",
    "\n",
    "Examples: \n",
    "The house is big. => The house is small.\n",
    "\n",
    "4. unimportant negation: when the negation does not affect the main clause of the text and does not affect the coreference chain.\n",
    " \n",
    "Examples: \n",
    "A man is driving his car. => A shirtless man is driving his car.\n",
    "\n",
    "Text:'''"
   ]
  },
  {
   "cell_type": "code",
   "execution_count": null,
   "id": "f0269596-892d-42d6-b564-023fdbdf6106",
   "metadata": {},
   "outputs": [],
   "source": [
    "concept_replacement_instruction ='''Replace a concept with one that is similar but fail the quality. Replacement types include:\n",
    "\n",
    "1. (base root) synonyms\n",
    "Example: embodies the character with an effortlessly regal charisma . -> embodies the character with an effortlessly regal charm. (charm and charisma are synonyms)\n",
    "2. hyper/hyponyms\n",
    "Example: The title not only describes its main characters, but the lazy people behind the camera as well. -> The title not only describes its main characters, but the lazy people behind the equipment as well. (equipment is a hypernym of camera)\n",
    "3. nonce words ('wugs')\n",
    "Example: Has a lot of the virtues of eastwood at his best. - Has a lot of the virtues of wug at his best. (wug is a nonce word)\n",
    "4. metaphors/idioms\n",
    "Example: This is a train wreck of an action film -> This is a disastrous action film (train wreck is a metaphor for disastrous)\n",
    "\n",
    "Text:'''"
   ]
  },
  {
   "cell_type": "code",
   "execution_count": 33,
   "id": "54d267a6-b98d-4a36-ae92-3e55775080f3",
   "metadata": {},
   "outputs": [],
   "source": [
    "samples = [\"The manager asked the employee to not forget his car.\",\n",
    "           \"After meeting with the producers, Sam went to their office.\",\n",
    "           \"The trophy didn't fit into the suitcase because it was too small.\",\n",
    "           \"The assistant asked the physician if she could borrow some money.\"\n",
    "           ]"
   ]
  },
  {
   "cell_type": "code",
   "execution_count": 31,
   "id": "a8e965d3-2261-4644-ad7d-2d90a6bf9c01",
   "metadata": {},
   "outputs": [],
   "source": [
    "def format_prompt(system_instruction, instruction, text):\n",
    "\n",
    "    messages = [\n",
    "        {\"role\": \"system\", \"content\": system_instruction},\n",
    "        {\"role\": \"user\", \"content\": instruction + text },\n",
    "    ]\n",
    "\n",
    "    return messages"
   ]
  },
  {
   "cell_type": "code",
   "execution_count": 34,
   "id": "caf9753d-5297-4ee3-b084-7322e59dfa28",
   "metadata": {},
   "outputs": [],
   "source": [
    "# Example OpenAI Python library request\n",
    "def request(samples, prompt_type):\n",
    "    for sample in samples:\n",
    "        messages = format_prompt(system_instruction, prompt_type, sample)\n",
    "        response = openai.ChatCompletion.create(\n",
    "            model=MODEL,\n",
    "            messages= messages,\n",
    "            temperature=0,\n",
    "        )\n",
    "        ans_model = response['choices'][0]['message']['content']\n",
    "        print(sample)\n",
    "        print(ans_model)\n",
    "        print('===================')"
   ]
  },
  {
   "cell_type": "code",
   "execution_count": 35,
   "id": "2c5bd3a4-8940-464b-a157-10c1a7cc65ed",
   "metadata": {},
   "outputs": [],
   "source": []
  },
  {
   "cell_type": "code",
   "execution_count": 36,
   "id": "26eec7b3-4360-4b93-bb19-08e137ba35bf",
   "metadata": {},
   "outputs": [
    {
     "name": "stdout",
     "output_type": "stream",
     "text": [
      "The manager asked the employee to not forget his car.\n",
      "1. Verbal negation: The manager didn't ask the employee to not forget his car.\n",
      "2. Synthetic negation: The manager never asked the employee to not forget his car.\n",
      "3. Lexical negation: The manager reminded the employee to remember his car.\n",
      "4. Unimportant negation: The busy manager asked the employee to not forget his car.\n",
      "===================\n",
      "After meeting with the producers, Sam went to their office.\n",
      "1. Verbal negation: After meeting with the producers, Sam did not go to their office.\n",
      "2. Synthetic negation: After meeting with the producers, Sam never went to their office.\n",
      "3. Lexical negation: After meeting with the producers, Sam departed from their office.\n",
      "4. Unimportant negation: After meeting with the producers, Sam, feeling tired, went to their office.\n",
      "===================\n",
      "The trophy didn't fit into the suitcase because it was too small.\n",
      "1. Verbal negation: The trophy fit into the suitcase because it was not too small.\n",
      "2. Synthetic negation: The trophy didn't fit into the suitcase because it was barely big.\n",
      "3. Lexical negation: The trophy didn't fit into the suitcase because it was too large.\n",
      "4. Unimportant negation: The trophy didn't fit into the suitcase because it was too small, despite being lightweight.\n",
      "===================\n",
      "The assistant asked the physician if she could borrow some money.\n",
      "1. Verbal negation: The assistant did not ask the physician if she could borrow some money.\n",
      "2. Synthetic negation: The assistant never asked the physician if she could borrow some money.\n",
      "3. Lexical negation: The assistant denied the physician if she could borrow some money.\n",
      "4. Unimportant negation: The assistant, who was not wearing glasses, asked the physician if she could borrow some money.\n",
      "===================\n"
     ]
    }
   ],
   "source": [
    "request(samples, negation_instruction)"
   ]
  },
  {
   "cell_type": "code",
   "execution_count": 37,
   "id": "5e815305-44be-47d1-8deb-54eb5ca3c971",
   "metadata": {},
   "outputs": [
    {
     "name": "stdout",
     "output_type": "stream",
     "text": [
      "The manager asked the employee to not forget his car.\n",
      "1. The supervisor asked the worker to not forget his vehicle.\n",
      "2. The boss asked the staff member to not forget his transportation.\n",
      "3. The wug asked the employee to not forget his car.\n",
      "4. The manager reminded the employee to keep his car in mind.\n",
      "===================\n",
      "After meeting with the producers, Sam went to their office.\n",
      "1. After encountering with the producers, Sam went to their office.\n",
      "2. After meeting with the producers, Sam went to their workspace.\n",
      "3. After meeting with the wugs, Sam went to their office.\n",
      "4. After crossing paths with the producers, Sam went to their office.\n",
      "===================\n",
      "The trophy didn't fit into the suitcase because it was too small.\n",
      "1. The award didn't fit into the suitcase because it was too small.\n",
      "2. The prize didn't fit into the luggage because it was too small.\n",
      "3. The wug didn't fit into the suitcase because it was too small.\n",
      "4. The trophy didn't fit into the suitcase because it was too compact.\n",
      "===================\n",
      "The assistant asked the physician if she could borrow some money.\n",
      "The assistant asked the doctor if she could borrow some funds.\n",
      "===================\n"
     ]
    }
   ],
   "source": [
    "request(samples, concept_replacement_instruction)"
   ]
  },
  {
   "cell_type": "code",
   "execution_count": 25,
   "id": "09440306-c614-489a-9ec8-ad66a12d102f",
   "metadata": {},
   "outputs": [],
   "source": [
    "collocation_replacement_instruction ='''\n",
    "Replace a word with another word which is commonly used in this context so that the overall meaning of the sentence /anaphora reference etc changesa)\n",
    "\n",
    "'''"
   ]
  },
  {
   "cell_type": "code",
   "execution_count": 38,
   "id": "4545d372-3e4b-4b3c-b863-bfe03c81ad23",
   "metadata": {},
   "outputs": [],
   "source": [
    "typo_instruction = '''Add typos to the text. Common types of typos are:\n",
    "\n",
    "1. Using an incorrect homonym: Your vs. You're, Their vs. There\n",
    "2. Adding a letter: Forty (correct) vs. Fourty\n",
    "3. Omitting a letter: Embarrass (correct) vs. Embarass\n",
    "4. Flipping letters: Friend (correct) vs. Freind\n",
    "5. Misspelling a word: Calendar (correct) vs. Calender\n",
    "\n",
    "Be precise and only reply with the modified texts corresponding to each type of typo. Don't explain.\n",
    "\n",
    "Text:\n",
    "'''"
   ]
  },
  {
   "cell_type": "code",
   "execution_count": 39,
   "id": "4e222478-fc5b-4065-8622-73ac73a853e0",
   "metadata": {},
   "outputs": [
    {
     "name": "stdout",
     "output_type": "stream",
     "text": [
      "The manager asked the employee to not forget his car.\n",
      "1. The manager asked the employee to not forget you're car.\n",
      "2. The manager asked the employee to not forget his carr.\n",
      "3. The manager asked the employee to not forget his ca.\n",
      "4. The manager asked the employee to not forget his cra.\n",
      "5. The manager asked the employee to not forget his calender.\n",
      "===================\n",
      "After meeting with the producers, Sam went to their office.\n",
      "1. After meeting with the producers, Sam went to there office.\n",
      "2. After meeting with the producers, Sam went to theiir office.\n",
      "3. After meeting with the producers, Sam went to ther office.\n",
      "4. After meeting with the producers, Sam went to tehir office.\n",
      "5. After meeting with the producers, Sam went to thier office.\n",
      "===================\n",
      "The trophy didn't fit into the suitcase because it was too small.\n",
      "1. The trophy didn't fit into the suitcase because it was too smale.\n",
      "2. The trophy didn't fit into the suitcase because it was tooo small.\n",
      "3. The trophy didn't fit into the suitcase because it was to small.\n",
      "4. The trophy didn't fit into the suitcase because it was too smll.\n",
      "5. The trophy didn't fit into the suitcase because it was too smal.\n",
      "===================\n",
      "The assistant asked the physician if she could borrow some money.\n",
      "1. The assistant asked the physician if she could borrow some money. You're vs. Your\n",
      "2. The assistant asked the physician if she could borrow some fourty. Forty vs. Fourty\n",
      "3. The assistant asked the physician if she could borrow some mony. Money vs. Mony\n",
      "4. The assistant asked the physician if she could borrow some mnoey. Money vs. Mnoey\n",
      "5. The assistant asked the physician if she could borrow some monei. Money vs. Monei\n",
      "===================\n"
     ]
    }
   ],
   "source": [
    "request(samples, typo_instruction)"
   ]
  },
  {
   "cell_type": "code",
   "execution_count": 40,
   "id": "78a71f4f-df54-4cd0-a388-8e62218108e4",
   "metadata": {},
   "outputs": [],
   "source": [
    "split_sentence_instruction ='''Split the text into multiple sentences without changing its meaning.\n",
    "Text:'''"
   ]
  },
  {
   "cell_type": "code",
   "execution_count": 41,
   "id": "ed2a82b4-4010-4654-a364-ff63cb12f33b",
   "metadata": {},
   "outputs": [
    {
     "name": "stdout",
     "output_type": "stream",
     "text": [
      "The manager asked the employee to not forget his car.\n",
      "The manager spoke to the employee. He asked him not to forget his car.\n",
      "===================\n",
      "After meeting with the producers, Sam went to their office.\n",
      "Sam met with the producers. After the meeting, he went to their office.\n",
      "===================\n",
      "The trophy didn't fit into the suitcase because it was too small.\n",
      "The trophy didn't fit into the suitcase. This was because it was too small.\n",
      "===================\n",
      "The assistant asked the physician if she could borrow some money.\n",
      "The assistant asked the physician a question. Could she borrow some money?\n",
      "===================\n"
     ]
    }
   ],
   "source": [
    "request(samples, split_sentence_instruction)"
   ]
  },
  {
   "cell_type": "code",
   "execution_count": null,
   "id": "e1bee5b1-4156-481c-9697-87ee2b8710e8",
   "metadata": {},
   "outputs": [],
   "source": []
  }
 ],
 "metadata": {
  "kernelspec": {
   "display_name": "Python 3 (ipykernel)",
   "language": "python",
   "name": "python3"
  },
  "language_info": {
   "codemirror_mode": {
    "name": "ipython",
    "version": 3
   },
   "file_extension": ".py",
   "mimetype": "text/x-python",
   "name": "python",
   "nbconvert_exporter": "python",
   "pygments_lexer": "ipython3",
   "version": "3.10.11"
  }
 },
 "nbformat": 4,
 "nbformat_minor": 5
}
